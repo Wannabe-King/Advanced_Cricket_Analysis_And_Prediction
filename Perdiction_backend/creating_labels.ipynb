{
 "cells": [
  {
   "cell_type": "code",
   "execution_count": 21,
   "metadata": {},
   "outputs": [],
   "source": [
    "import pandas as pd\n",
    "import matplotlib.pyplot as plt\n",
    "import seaborn as sns\n",
    "from utils import avg_run_y, strike_rate_y, economy_y, bowling_avg_y, wickets_per_match_y\n",
    "ball_by_ball= pd.read_csv('dataset/IPL_ball_by_ball_updated.csv')\n"
   ]
  },
  {
   "cell_type": "code",
   "execution_count": 22,
   "metadata": {},
   "outputs": [],
   "source": [
    "# finding unique match id\n",
    "match_id_list=ball_by_ball['match_id'].unique()"
   ]
  },
  {
   "cell_type": "code",
   "execution_count": 24,
   "metadata": {},
   "outputs": [
    {
     "name": "stdout",
     "output_type": "stream",
     "text": [
      "CSV file 'player_performance_data_y.csv' created successfully.\n"
     ]
    }
   ],
   "source": [
    "import csv\n",
    "# Open CSV file for writing\n",
    "with open('player_performance_data_y.csv', mode='w', newline='') as file:\n",
    "    # Define the column names for the CSV file\n",
    "    fieldnames = ['Player', 'Opponent Team', 'Venue', 'Match ID', 'Avg Run', 'Strike Rate', 'Economy', 'Bowling Avg', 'Wickets per Match']\n",
    "\n",
    "    # Initialize the CSV writer\n",
    "    writer = csv.DictWriter(file, fieldnames=fieldnames)\n",
    "\n",
    "    # Write the header row\n",
    "    writer.writeheader()\n",
    "\n",
    "    # Loop over matches\n",
    "    for match_id in match_id_list:\n",
    "        match = ball_by_ball[ball_by_ball['match_id'] == match_id]  # Filter rows\n",
    "        venue = match['venue'].values[0]  # Extract the venue value\n",
    "\n",
    "        # Collect unique players and their respective opposite teams\n",
    "        total_player_and_opposite_team = set()\n",
    "\n",
    "        # Combine players with opposite teams using zip\n",
    "        total_player_and_opposite_team.update(zip(match['bowler'], match['batting_team']))\n",
    "        total_player_and_opposite_team.update(zip(match['striker'], match['bowling_team']))\n",
    "        total_player_and_opposite_team.update(zip(match['non_striker'], match['bowling_team']))\n",
    "\n",
    "        # Iterate over each player-opponent pair\n",
    "        for player, opposite_team in total_player_and_opposite_team:\n",
    "            # Calculate performance metrics\n",
    "            avg_run = avg_run_y(player, venue, opposite_team, match_id)\n",
    "            strike_rate = strike_rate_y(player, venue, opposite_team, match_id)\n",
    "            economy = economy_y(player, venue, opposite_team, match_id)\n",
    "            bowling_avg = bowling_avg_y(player, venue, opposite_team, match_id)\n",
    "            wickets_per_match = wickets_per_match_y(player, venue, opposite_team, match_id)\n",
    "\n",
    "            # Store the data in a dictionary\n",
    "            row = {\n",
    "                'Player': player,\n",
    "                'Opponent Team': opposite_team,\n",
    "                'Venue': venue,\n",
    "                'Match ID': match_id,\n",
    "                'Avg Run': avg_run,\n",
    "                'Strike Rate': strike_rate,\n",
    "                'Economy': economy,\n",
    "                'Bowling Avg': bowling_avg,\n",
    "                'Wickets per Match': wickets_per_match\n",
    "            }\n",
    "\n",
    "            # Write the row to the CSV file\n",
    "            writer.writerow(row)\n",
    "\n",
    "print(\"CSV file 'player_performance_data_y.csv' created successfully.\")\n"
   ]
  },
  {
   "cell_type": "code",
   "execution_count": null,
   "metadata": {},
   "outputs": [],
   "source": []
  }
 ],
 "metadata": {
  "kernelspec": {
   "display_name": "cricker_analysis",
   "language": "python",
   "name": "python3"
  },
  "language_info": {
   "codemirror_mode": {
    "name": "ipython",
    "version": 3
   },
   "file_extension": ".py",
   "mimetype": "text/x-python",
   "name": "python",
   "nbconvert_exporter": "python",
   "pygments_lexer": "ipython3",
   "version": "3.12.5"
  }
 },
 "nbformat": 4,
 "nbformat_minor": 2
}
