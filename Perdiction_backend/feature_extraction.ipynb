{
 "cells": [
  {
   "cell_type": "code",
   "execution_count": 31,
   "metadata": {},
   "outputs": [],
   "source": [
    "import pandas as pd\n",
    "import matplotlib.pyplot as plt\n",
    "import seaborn as sns\n",
    "\n",
    "\n",
    "ball_by_ball= pd.read_csv('dataset/IPL_ball_by_ball_updated.csv')"
   ]
  },
  {
   "cell_type": "markdown",
   "metadata": {},
   "source": [
    "### avg run"
   ]
  },
  {
   "cell_type": "code",
   "execution_count": 105,
   "metadata": {},
   "outputs": [],
   "source": [
    "def total_run(player_name, venue, opponent_team):\n",
    "    # Filter rows where the player is the striker, at the specific venue, and against the opponent team\n",
    "    player_data = ball_by_ball[(ball_by_ball['striker'] == player_name) &\n",
    "                               (ball_by_ball['venue'] == venue) &\n",
    "                               (ball_by_ball['bowling_team'] == opponent_team)]\n",
    "    \n",
    "    # Sum the runs_off_bat for the filtered rows\n",
    "    total_runs = player_data['runs_off_bat'].sum()\n",
    "    \n",
    "    return total_runs\n",
    "\n",
    "def total_matches(player_name, venue, opponent_team) :\n",
    "    player_data = ball_by_ball[(ball_by_ball['striker'] == player_name) &\n",
    "                               (ball_by_ball['venue'] == venue) &\n",
    "                               (ball_by_ball['bowling_team'] == opponent_team)]\n",
    "    \n",
    "\n",
    "    return len(player_data['match_id'].unique())\n",
    "\n",
    "def avg_run(player_name, venue, opponent_team) :\n",
    "    TR=total_run(player_name, venue, opponent_team)\n",
    "    TM=total_matches(player_name, venue, opponent_team)\n",
    "    if TM !=0 :\n",
    "       avgrun= TR/TM\n",
    "       return avgrun\n",
    "    else :\n",
    "        return 10"
   ]
  },
  {
   "cell_type": "markdown",
   "metadata": {},
   "source": [
    "# avg run WV"
   ]
  },
  {
   "cell_type": "code",
   "execution_count": 106,
   "metadata": {},
   "outputs": [],
   "source": [
    "def total_run_WV(player_name, venue, opponent_team):\n",
    "    # Filter rows where the player is the striker, at the specific venue, and against the opponent team\n",
    "    player_data = ball_by_ball[(ball_by_ball['striker'] == player_name) &\n",
    "                               (ball_by_ball['bowling_team'] == opponent_team)]\n",
    "    \n",
    "    # Sum the runs_off_bat for the filtered rows\n",
    "    total_runs = player_data['runs_off_bat'].sum()\n",
    "    \n",
    "    return total_runs\n",
    "\n",
    "def total_matches_WV(player_name, venue, opponent_team) :\n",
    "    player_data = ball_by_ball[(ball_by_ball['striker'] == player_name) &\n",
    "                               (ball_by_ball['bowling_team'] == opponent_team)]\n",
    "    \n",
    "\n",
    "    return len(player_data['match_id'].unique())\n",
    "\n",
    "def avg_run_WV(player_name, venue, opponent_team) :\n",
    "    TR=total_run_WV(player_name, venue, opponent_team)\n",
    "    TM=total_matches_WV(player_name, venue, opponent_team)\n",
    "    if TM !=0 :\n",
    "       avgrun= TR/TM\n",
    "       return avgrun\n",
    "    else :\n",
    "        return 10"
   ]
  },
  {
   "cell_type": "markdown",
   "metadata": {},
   "source": [
    "### strike rate"
   ]
  },
  {
   "cell_type": "code",
   "execution_count": 34,
   "metadata": {},
   "outputs": [],
   "source": [
    "def total_bowls_faced(player_name, venue, opponent_team) :\n",
    "    player_data = ball_by_ball[(ball_by_ball['striker'] == player_name) &\n",
    "                               (ball_by_ball['venue'] == venue) &\n",
    "                               (ball_by_ball['bowling_team'] == opponent_team)]\n",
    "    return len(player_data['match_id'])\n",
    "def strike_rate(player_name, venue, opponent_team) :\n",
    "    SR=int (total_run(player_name, venue, opponent_team)/total_bowls_faced(player_name, venue, opponent_team)*100)\n",
    "    return SR"
   ]
  },
  {
   "cell_type": "markdown",
   "metadata": {},
   "source": [
    "### strike rate wv"
   ]
  },
  {
   "cell_type": "code",
   "execution_count": 35,
   "metadata": {},
   "outputs": [],
   "source": [
    "def total_bowls_faced_WV(player_name, venue, opponent_team) :\n",
    "    player_data = ball_by_ball[(ball_by_ball['striker'] == player_name) &\n",
    "                               (ball_by_ball['bowling_team'] == opponent_team)]\n",
    "    return len(player_data['match_id'])\n",
    "def strike_rate_WV(player_name, venue, opponent_team) :\n",
    "    SR=int (total_run_WV(player_name, venue, opponent_team)/total_bowls_faced_WV(player_name, venue, opponent_team)*100)\n",
    "    return SR"
   ]
  },
  {
   "cell_type": "markdown",
   "metadata": {},
   "source": [
    "### economy "
   ]
  },
  {
   "cell_type": "code",
   "execution_count": 101,
   "metadata": {},
   "outputs": [],
   "source": [
    "def total_run_conceded(player_name, venue, opponent_team) :\n",
    "    player_data = ball_by_ball[(ball_by_ball['bowler'] == player_name) &\n",
    "                               (ball_by_ball['venue'] == venue) &\n",
    "                               (ball_by_ball['batting_team'] == opponent_team)]\n",
    "    total_run=player_data[\"runs_off_bat\"].sum()+player_data[\"extras\"].sum()\n",
    "    return total_run\n",
    "def total_overs_bowled(player_name, venue, opponent_team):\n",
    "    # Filter rows where the player is the bowler, at the specific venue, and against the opponent team\n",
    "    player_data = ball_by_ball[(ball_by_ball['bowler'] == player_name) &\n",
    "                               (ball_by_ball['venue'] == venue) &\n",
    "                               (ball_by_ball['batting_team'] == opponent_team)]\n",
    "    \n",
    "    # Extract the 'ball' column, which represents balls like 0.1, 0.2, etc.\n",
    "    # Convert them to over numbers by taking the integer part\n",
    "    overs_bowled = player_data['ball'].apply(lambda x: int(str(x).split('.')[0])) +player_data['match_id'].apply(lambda x: int(str(x).split('.')[0]))*10\n",
    "\n",
    "    # Count the unique over numbers to get the total overs bowled\n",
    "    total_overs = len(overs_bowled.unique())\n",
    "    \n",
    "    return total_overs\n",
    "\n",
    "def economy(player_name, venue, opponent_team) :\n",
    "    eco=total_run_conceded(player_name, venue, opponent_team)/total_overs_bowled(player_name, venue, opponent_team)\n",
    "    return eco\n",
    "\n"
   ]
  },
  {
   "cell_type": "markdown",
   "metadata": {},
   "source": [
    "### Economy WV"
   ]
  },
  {
   "cell_type": "code",
   "execution_count": 102,
   "metadata": {},
   "outputs": [],
   "source": [
    "def total_run_conceded_WV(player_name, venue, opponent_team) :\n",
    "    player_data = ball_by_ball[(ball_by_ball['bowler'] == player_name) &\n",
    "                               (ball_by_ball['batting_team'] == opponent_team)]\n",
    "    total_run=player_data[\"runs_off_bat\"].sum()+player_data[\"extras\"].sum()\n",
    "    return total_run\n",
    "def total_overs_bowled_WV(player_name, venue, opponent_team):\n",
    "    # Filter rows where the player is the bowler, at the specific venue, and against the opponent team\n",
    "    player_data = ball_by_ball[(ball_by_ball['bowler'] == player_name) &\n",
    "                               (ball_by_ball['batting_team'] == opponent_team)]\n",
    "    \n",
    "    # Extract the 'ball' column, which represents balls like 0.1, 0.2, etc.\n",
    "    # Convert them to over numbers by taking the integer part\n",
    "    overs_bowled = player_data['ball'].apply(lambda x: int(str(x).split('.')[0])) +player_data['match_id'].apply(lambda x: int(str(x).split('.')[0]))*10\n",
    "\n",
    "    # Count the unique over numbers to get the total overs bowled\n",
    "    total_overs = len(overs_bowled.unique())\n",
    "    \n",
    "    return total_overs\n",
    "\n",
    "def economy_WV(player_name, venue, opponent_team) :\n",
    "    eco=total_run_conceded_WV(player_name, venue, opponent_team)/total_overs_bowled_WV(player_name, venue, opponent_team)\n",
    "    return eco\n",
    "\n"
   ]
  },
  {
   "cell_type": "markdown",
   "metadata": {},
   "source": [
    "### wickets/match"
   ]
  },
  {
   "cell_type": "code",
   "execution_count": 38,
   "metadata": {},
   "outputs": [],
   "source": [
    "def wickets_taken(player_name, venue, opponent_team):\n",
    "    # Filter rows where the player is the bowler, at the specific venue, and against the opponent team\n",
    "    player_data = ball_by_ball[(ball_by_ball['bowler'] == player_name) &\n",
    "                               (ball_by_ball['venue'] == venue) &\n",
    "                               (ball_by_ball['batting_team'] == opponent_team)]\n",
    "    \n",
    "    # Count the number of rows where 'wicket_type' is not null\n",
    "    wickets = player_data['wicket_type'].notna().sum()\n",
    "    \n",
    "    return wickets\n",
    "\n",
    "def total_matches_bowler(player_name, venue, opponent_team) :\n",
    "    player_data = ball_by_ball[(ball_by_ball['bowler'] == player_name) &\n",
    "                               (ball_by_ball['venue'] == venue) &\n",
    "                               (ball_by_ball['batting_team'] == opponent_team)]\n",
    "    \n",
    "\n",
    "    return len(player_data['match_id'].unique())\n",
    "\n",
    "def wickets_per_match(player_name, venue, opponent_team):\n",
    "    try :\n",
    "      wpm = wickets_taken(player_name, venue, opponent_team)/total_matches_bowler(player_name, venue, opponent_team)\n",
    "      return wpm\n",
    "    except : # if total_matches bowler==0\n",
    "     return 0\n",
    "    "
   ]
  },
  {
   "cell_type": "markdown",
   "metadata": {},
   "source": [
    "### Wickets/match WV"
   ]
  },
  {
   "cell_type": "code",
   "execution_count": 39,
   "metadata": {},
   "outputs": [],
   "source": [
    "def wickets_taken_WV(player_name, venue, opponent_team):\n",
    "    # Filter rows where the player is the bowler, at the specific venue, and against the opponent team\n",
    "    player_data = ball_by_ball[(ball_by_ball['bowler'] == player_name) &\n",
    "                               (ball_by_ball['batting_team'] == opponent_team)]\n",
    "    \n",
    "    # Count the number of rows where 'wicket_type' is not null\n",
    "    wickets = player_data['wicket_type'].notna().sum()\n",
    "    \n",
    "    return wickets\n",
    "\n",
    "def total_matches_bowler_WV(player_name, venue, opponent_team) :\n",
    "    player_data = ball_by_ball[(ball_by_ball['bowler'] == player_name) &\n",
    "                               (ball_by_ball['batting_team'] == opponent_team)]\n",
    "    \n",
    "\n",
    "    return len(player_data['match_id'].unique())\n",
    "\n",
    "def wickets_per_match_WV(player_name, venue, opponent_team):\n",
    "    try :\n",
    "      wpm = wickets_taken_WV(player_name, venue, opponent_team)/total_matches_bowler_WV(player_name, venue, opponent_team)\n",
    "      return wpm\n",
    "    except : # if total_matches bowler==0\n",
    "     return 0\n",
    "    "
   ]
  },
  {
   "cell_type": "markdown",
   "metadata": {},
   "source": [
    "### Bowling Average(total_runs_conceded/wickets)"
   ]
  },
  {
   "cell_type": "code",
   "execution_count": 40,
   "metadata": {},
   "outputs": [],
   "source": [
    "def total_run_conceded(player_name, venue, opponent_team) :\n",
    "    player_data = ball_by_ball[(ball_by_ball['bowler'] == player_name) &\n",
    "                               (ball_by_ball['venue'] == venue) &\n",
    "                               (ball_by_ball['batting_team'] == opponent_team)]\n",
    "    total_run=player_data[\"runs_off_bat\"].sum()+player_data[\"extras\"].sum()\n",
    "    return total_run\n",
    "\n",
    "def wickets_taken(player_name, venue, opponent_team):\n",
    "    # Filter rows where the player is the bowler, at the specific venue, and against the opponent team\n",
    "    player_data = ball_by_ball[(ball_by_ball['bowler'] == player_name) &\n",
    "                               (ball_by_ball['venue'] == venue) &\n",
    "                               (ball_by_ball['batting_team'] == opponent_team)]\n",
    "    \n",
    "    # Count the number of rows where 'wicket_type' is not null\n",
    "    wickets = player_data['wicket_type'].notna().sum()\n",
    "    \n",
    "    return wickets\n",
    "\n",
    "def bowling_avg(player_name, venue, opponent_team):\n",
    "    ba=total_run_conceded(player_name, venue, opponent_team)/wickets_taken(player_name, venue, opponent_team)\n",
    "    return ba"
   ]
  },
  {
   "cell_type": "markdown",
   "metadata": {},
   "source": [
    "### Bowling Avg WV"
   ]
  },
  {
   "cell_type": "code",
   "execution_count": 41,
   "metadata": {},
   "outputs": [],
   "source": [
    "def total_run_conceded_WV(player_name, venue, opponent_team) :\n",
    "    player_data = ball_by_ball[(ball_by_ball['bowler'] == player_name) &\n",
    "                               (ball_by_ball['batting_team'] == opponent_team)]\n",
    "    total_run=player_data[\"runs_off_bat\"].sum()+player_data[\"extras\"].sum()\n",
    "    return total_run\n",
    "\n",
    "def wickets_taken_WV(player_name, venue, opponent_team):\n",
    "    # Filter rows where the player is the bowler, at the specific venue, and against the opponent team\n",
    "    player_data = ball_by_ball[(ball_by_ball['bowler'] == player_name) &\n",
    "                               (ball_by_ball['batting_team'] == opponent_team)]\n",
    "    \n",
    "    # Count the number of rows where 'wicket_type' is not null\n",
    "    wickets = player_data['wicket_type'].notna().sum()\n",
    "    \n",
    "    return wickets\n",
    "\n",
    "def bowling_avg_WV(player_name, venue, opponent_team):\n",
    "    ba=total_run_conceded_WV(player_name, venue, opponent_team)/wickets_taken_WV(player_name, venue, opponent_team)\n",
    "    return ba"
   ]
  },
  {
   "cell_type": "markdown",
   "metadata": {},
   "source": [
    "### win percentage"
   ]
  },
  {
   "cell_type": "code",
   "execution_count": 42,
   "metadata": {},
   "outputs": [],
   "source": [
    "def win_percentage(player_name, venue, opponent_team) :\n",
    "    player_data_bowler = ball_by_ball[(ball_by_ball['bowler'] == player_name) &\n",
    "                               (ball_by_ball['batting_team'] == opponent_team)]\n",
    "    player_data_batsman = ball_by_ball[(ball_by_ball['striker'] == player_name) &\n",
    "                               (ball_by_ball['bowling_team'] == opponent_team)]\n",
    "    \n",
    "    win_baller = []\n",
    "    if not player_data_bowler.empty:\n",
    "        for idx, datapoint in player_data_bowler.iterrows():\n",
    "            if datapoint['bowling_team'] == datapoint['winner']:\n",
    "                win_baller.append(datapoint['match_id'])\n",
    "    \n",
    "    wins_num_bowler = len(set(win_baller))\n",
    "    total_matches_bowler = len(player_data_bowler['match_id'].unique())\n",
    "    \n",
    "    win_batsman = []\n",
    "    if not player_data_batsman.empty:\n",
    "        for idx, datapoint in player_data_batsman.iterrows():\n",
    "            if datapoint['batting_team'] == datapoint['winner']:\n",
    "                win_batsman.append(datapoint['match_id'])\n",
    "    \n",
    "    wins_num_batsman = len(set(win_batsman))\n",
    "    total_matches_batsman = len(player_data_batsman['match_id'].unique())\n",
    "    \n",
    "    WP_baller = 0\n",
    "    if total_matches_bowler:\n",
    "        WP_baller = wins_num_bowler / total_matches_bowler\n",
    "    \n",
    "    WP_batsman = 0\n",
    "    if total_matches_batsman:\n",
    "        WP_baller = wins_num_batsman / total_matches_batsman\n",
    "    \n",
    "    ans = max(WP_baller, WP_batsman)\n",
    "\n",
    "    if ans == 0:\n",
    "        return 40\n",
    "    else:\n",
    "        return int(ans * 100)\n"
   ]
  },
  {
   "cell_type": "code",
   "execution_count": 98,
   "metadata": {},
   "outputs": [],
   "source": [
    "player_name=\"RA Jadeja\" \n",
    "venue=\"M Chinnaswamy Stadium, Bengaluru\"\n",
    "opponent_team=\"Mumbai Indians\"\n"
   ]
  },
  {
   "cell_type": "code",
   "execution_count": 103,
   "metadata": {},
   "outputs": [
    {
     "name": "stdout",
     "output_type": "stream",
     "text": [
      "8.544303797468354\n"
     ]
    }
   ],
   "source": [
    "print(economy_WV(player_name,venue,opponent_team))"
   ]
  },
  {
   "cell_type": "code",
   "execution_count": 104,
   "metadata": {},
   "outputs": [
    {
     "name": "stdout",
     "output_type": "stream",
     "text": [
      "675\n",
      "79\n"
     ]
    }
   ],
   "source": [
    "print(total_run_conceded_WV(player_name, venue, opponent_team))\n",
    "print(total_overs_bowled_WV(player_name, venue, opponent_team))"
   ]
  },
  {
   "cell_type": "code",
   "execution_count": null,
   "metadata": {},
   "outputs": [],
   "source": []
  }
 ],
 "metadata": {
  "kernelspec": {
   "display_name": "cricker_analysis",
   "language": "python",
   "name": "python3"
  },
  "language_info": {
   "codemirror_mode": {
    "name": "ipython",
    "version": 3
   },
   "file_extension": ".py",
   "mimetype": "text/x-python",
   "name": "python",
   "nbconvert_exporter": "python",
   "pygments_lexer": "ipython3",
   "version": "3.12.5"
  }
 },
 "nbformat": 4,
 "nbformat_minor": 2
}
