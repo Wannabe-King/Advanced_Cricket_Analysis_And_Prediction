{
 "cells": [
  {
   "cell_type": "code",
   "execution_count": 3,
   "metadata": {},
   "outputs": [
    {
     "name": "stdout",
     "output_type": "stream",
     "text": [
      "matches_df :: \n",
      "venue                 0\n",
      "umpire2               0\n",
      "winner_runs         561\n",
      "date                  0\n",
      "method             1008\n",
      "reserve_umpire       24\n",
      "winner               19\n",
      "city                 51\n",
      "balls_per_over        0\n",
      "outcome            1005\n",
      "match_number         62\n",
      "match_referee         0\n",
      "team1                 0\n",
      "eliminator         1010\n",
      "date1              1022\n",
      "gender                0\n",
      "team2                 0\n",
      "winner_wickets      482\n",
      "toss_winner           0\n",
      "toss_decision         0\n",
      "date2              1022\n",
      "tv_umpire             3\n",
      "season                0\n",
      "umpire1               0\n",
      "event                 0\n",
      "neutralvenue        947\n",
      "player_of_match       5\n",
      "matchId               0\n",
      "dtype: int64\n",
      "ball_by_ball_df :: \n",
      "match_id                       0\n",
      "season                         0\n",
      "start_date                     0\n",
      "venue                          0\n",
      "innings                        0\n",
      "ball                           0\n",
      "batting_team                   0\n",
      "bowling_team                   0\n",
      "striker                        0\n",
      "non_striker                    0\n",
      "bowler                         0\n",
      "runs_off_bat                   0\n",
      "extras                         0\n",
      "wides                     236163\n",
      "noballs                   242797\n",
      "byes                      243187\n",
      "legbyes                   240037\n",
      "penalty                   243813\n",
      "wicket_type               231748\n",
      "player_dismissed          231748\n",
      "other_wicket_type         243815\n",
      "other_player_dismissed    243815\n",
      "dtype: int64\n",
      "Matches dataset shape: (1024, 28)\n",
      "Ball-by-ball dataset shape: (243815, 22)\n"
     ]
    }
   ],
   "source": [
    "import pandas as pd\n",
    "import matplotlib.pyplot as plt\n",
    "import seaborn as sns\n",
    "\n",
    "# Load the datasets\n",
    "matches_df = pd.read_csv('dataset/matches_updated_mens_ipl.csv')\n",
    "ball_by_ball_df = pd.read_csv('dataset/IPL_ball_by_ball_updated.csv')\n",
    "\n",
    "# Check for missing values\n",
    "print(\"matches_df :: \")\n",
    "print(matches_df.isnull().sum())\n",
    "print(\"ball_by_ball_df :: \")\n",
    "print(ball_by_ball_df.isnull().sum())\n",
    "\n",
    "# Shape of the datasets\n",
    "print(f\"Matches dataset shape: {matches_df.shape}\")\n",
    "print(f\"Ball-by-ball dataset shape: {ball_by_ball_df.shape}\")\n"
   ]
  },
  {
   "cell_type": "markdown",
   "metadata": {},
   "source": [
    "# Cleaning of dataset is not required as the dataset is complete "
   ]
  },
  {
   "cell_type": "markdown",
   "metadata": {},
   "source": [
    "    # Visualizing Data"
   ]
  },
  {
   "cell_type": "code",
   "execution_count": null,
   "metadata": {},
   "outputs": [],
   "source": [
    "def calculate_win_percentage(player_name, opponent_team, stadium):\n",
    "    player_matches = matches[((matches['team1'] == player_name) | (matches['team2'] == player_name)) &\n",
    "                             (matches['venue'] == stadium)]\n",
    "    opponent_matches = player_matches[(player_matches['team1'] == opponent_team) | \n",
    "                                      (player_matches['team2'] == opponent_team)]\n",
    "    total_matches = len(opponent_matches)\n",
    "    wins = len(opponent_matches[opponent_matches['winner'] == player_name])\n",
    "    \n",
    "    return (wins / total_matches) * 100 if total_matches > 0 else 0\n"
   ]
  }
 ],
 "metadata": {
  "kernelspec": {
   "display_name": "Python 3 (ipykernel)",
   "language": "python",
   "name": "python3"
  },
  "language_info": {
   "codemirror_mode": {
    "name": "ipython",
    "version": 3
   },
   "file_extension": ".py",
   "mimetype": "text/x-python",
   "name": "python",
   "nbconvert_exporter": "python",
   "pygments_lexer": "ipython3",
   "version": "3.12.5"
  }
 },
 "nbformat": 4,
 "nbformat_minor": 4
}
