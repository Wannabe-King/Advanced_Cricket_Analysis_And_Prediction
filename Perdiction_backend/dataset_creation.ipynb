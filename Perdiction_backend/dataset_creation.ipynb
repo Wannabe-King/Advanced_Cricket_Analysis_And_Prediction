{
 "cells": [
  {
   "cell_type": "code",
   "execution_count": 6,
   "metadata": {},
   "outputs": [],
   "source": [
    "import pandas as pd\n",
    "import matplotlib.pyplot as plt\n",
    "import seaborn as sns\n",
    "from utils import avg_run, avg_run_WV, strike_rate, strike_rate_WV, economy, economy_WV, wickets_per_match, wickets_per_match_WV, bowling_avg, bowling_avg_WV, win_percentage\n",
    "\n",
    "ball_by_ball= pd.read_csv('dataset/IPL_ball_by_ball_updated.csv')\n",
    "\n",
    "players_list=set(ball_by_ball[\"striker\"]).union(set(ball_by_ball[\"non_striker\"])).union(set(ball_by_ball[\"bowler\"]))\n",
    "team_list=set(ball_by_ball[\"batting_team\"])\n",
    "stadium_list=set(ball_by_ball['venue'])"
   ]
  },
  {
   "cell_type": "code",
   "execution_count": 7,
   "metadata": {},
   "outputs": [],
   "source": [
    "import csv\n",
    "\n",
    "# Create a CSV file and write data\n",
    "with open('player_performance_data.csv', mode='w', newline='') as file:\n",
    "    writer = csv.DictWriter(file, fieldnames=[\n",
    "        'Player', 'Opponent Team', 'Venue', 'Avg Run', 'Avg Run WV', 'Strike Rate', \n",
    "        'Strike Rate WV', 'Economy', 'Economy WV', 'Wickets per Match', 'Wickets per Match WV', \n",
    "        'Bowling Avg', 'Bowling Avg WV', 'Win Percentage'\n",
    "    ])\n",
    "    \n",
    "    # Write the header row\n",
    "    writer.writeheader()\n",
    "    \n",
    "    # Loop over players, teams, and venues to calculate values and write to CSV\n",
    "    for player_name in players_list:\n",
    "        for opponent_team in team_list:\n",
    "            for venue in stadium_list:\n",
    "                player_data_bat = ball_by_ball[\n",
    "                    (ball_by_ball['striker'] == player_name) &\n",
    "                    (ball_by_ball['venue'] == venue) &\n",
    "                    (ball_by_ball['bowling_team'] == opponent_team)\n",
    "                ]\n",
    "                player_data_bowl = ball_by_ball[\n",
    "                    (ball_by_ball['bowler'] == player_name) &\n",
    "                    (ball_by_ball['venue'] == venue) &\n",
    "                    (ball_by_ball['batting_team'] == opponent_team)\n",
    "                ]\n",
    "                \n",
    "                # Check if there's any relevant data\n",
    "                if not player_data_bat.empty or not player_data_bowl.empty:\n",
    "                    row = {\n",
    "                        'Player': player_name,\n",
    "                        'Opponent Team': opponent_team,\n",
    "                        'Venue': venue,\n",
    "                        'Avg Run': avg_run(player_name, venue, opponent_team),\n",
    "                        'Avg Run WV': avg_run_WV(player_name, venue, opponent_team),\n",
    "                        'Strike Rate': strike_rate(player_name, venue, opponent_team),\n",
    "                        'Strike Rate WV': strike_rate_WV(player_name, venue, opponent_team),\n",
    "                        'Economy': economy(player_name, venue, opponent_team),\n",
    "                        'Economy WV': economy_WV(player_name, venue, opponent_team),\n",
    "                        'Wickets per Match': wickets_per_match(player_name, venue, opponent_team),\n",
    "                        'Wickets per Match WV': wickets_per_match_WV(player_name, venue, opponent_team),\n",
    "                        'Bowling Avg': bowling_avg(player_name, venue, opponent_team),\n",
    "                        'Bowling Avg WV': bowling_avg_WV(player_name, venue, opponent_team),\n",
    "                        'Win Percentage': win_percentage(player_name, venue, opponent_team)\n",
    "                    }\n",
    "\n",
    "                    # Write the row to CSV\n",
    "                    writer.writerow(row)\n",
    "\n",
    "print(\"CSV file 'player_performance_data.csv' created successfully.\")\n"
   ]
  },
  {
   "cell_type": "code",
   "execution_count": null,
   "metadata": {},
   "outputs": [],
   "source": []
  }
 ],
 "metadata": {
  "kernelspec": {
   "display_name": "cricker_analysis",
   "language": "python",
   "name": "python3"
  },
  "language_info": {
   "codemirror_mode": {
    "name": "ipython",
    "version": 3
   },
   "file_extension": ".py",
   "mimetype": "text/x-python",
   "name": "python",
   "nbconvert_exporter": "python",
   "pygments_lexer": "ipython3",
   "version": "3.12.5"
  }
 },
 "nbformat": 4,
 "nbformat_minor": 2
}
